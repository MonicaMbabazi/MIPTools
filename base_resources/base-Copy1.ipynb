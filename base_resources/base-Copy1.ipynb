{
 "cells": [
  {
   "cell_type": "raw",
   "metadata": {},
   "source": [
    "<script>\n",
    "  function code_toggle() {\n",
    "    if (code_shown){\n",
    "      $('div.input').hide('500');\n",
    "      $('#toggleButton').val('Show Code')\n",
    "    } else {\n",
    "      $('div.input').show('500');\n",
    "      $('#toggleButton').val('Hide Code')\n",
    "    }\n",
    "    code_shown = !code_shown\n",
    "  }\n",
    "\n",
    "  $( document ).ready(function(){\n",
    "    code_shown=false;\n",
    "    $('div.input').hide()\n",
    "  });\n",
    "</script>\n",
    "<form action=\"javascript:code_toggle()\"><input type=\"submit\" id=\"toggleButton\" value=\"Show Code\"></form>"
   ]
  },
  {
   "cell_type": "markdown",
   "metadata": {},
   "source": [
    "## Code visibility\n",
    "Use the Show/Hide Code button on the top left to make to make the code visible or hide it. It will be hidden in the HTML files by default."
   ]
  },
  {
   "cell_type": "code",
   "execution_count": 1,
   "metadata": {},
   "outputs": [
    {
     "name": "stdout",
     "output_type": "stream",
     "text": [
      "Classes reloading.\n",
      "functions reloading\n"
     ]
    }
   ],
   "source": [
    "# RUN\n",
    "import sys\n",
    "sys.path.append(\"/opt/extras/MIPTools/src\")\n",
    "import mip_functions as mip\n",
    "import pickle\n",
    "import json\n",
    "import copy\n",
    "import os\n",
    "import numpy as np\n",
    "import subprocess\n",
    "%matplotlib inline\n",
    "import matplotlib.pyplot as plt\n",
    "plt.style.use('ggplot')\n",
    "import pandas as pd\n",
    "import seaborn as sns\n",
    "import warnings\n",
    "warnings.filterwarnings('ignore')"
   ]
  },
  {
   "cell_type": "code",
   "execution_count": 2,
   "metadata": {},
   "outputs": [],
   "source": [
    "from sample_sheet_prep import sample_sheet_prep"
   ]
  },
  {
   "cell_type": "code",
   "execution_count": 3,
   "metadata": {},
   "outputs": [],
   "source": [
    "wdir = \"/opt/extras/MIPTools/base_resources/sample_prep/\"\n",
    "capture_plate_files = [\"example_capture_plate.tsv\"]\n",
    "sample_plate_files = [\"example_sample_plates.tsv\"]\n",
    "quadrants=\"/opt/extras/MIPTools/base_resources/sample_prep/quadrants.csv\"\n",
    "forward_plates=\"/opt/extras/MIPTools/base_resources/sample_prep/forward_plates.csv\"\n",
    "reverse_plates=\"/opt/extras/MIPTools/base_resources/sample_prep/reverse_plates.csv\"\n",
    "legacy_sample_sheets = None\n",
    "output_file = \"example_sample_sheet.tsv\""
   ]
  },
  {
   "cell_type": "code",
   "execution_count": 4,
   "metadata": {},
   "outputs": [],
   "source": [
    "sample_sheet_prep(capture_plates=capture_plate_files,\n",
    "                  sample_plates=sample_plate_files,\n",
    "                  legacy_sheets=legacy_sample_sheets,\n",
    "                  output_file=output_file,\n",
    "                  quadrants=quadrants,\n",
    "                  forward_plates=forward_plates,\n",
    "                  reverse_plates=reverse_plates,\n",
    "                  wdir=wdir)"
   ]
  },
  {
   "cell_type": "code",
   "execution_count": null,
   "metadata": {},
   "outputs": [],
   "source": []
  }
 ],
 "metadata": {
  "kernelspec": {
   "display_name": "Python 3",
   "language": "python",
   "name": "python3"
  },
  "language_info": {
   "codemirror_mode": {
    "name": "ipython",
    "version": 3
   },
   "file_extension": ".py",
   "mimetype": "text/x-python",
   "name": "python",
   "nbconvert_exporter": "python",
   "pygments_lexer": "ipython3",
   "version": "3.8.3"
  }
 },
 "nbformat": 4,
 "nbformat_minor": 2
}
